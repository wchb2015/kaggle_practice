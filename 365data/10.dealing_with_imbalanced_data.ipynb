{
 "cells": [
  {
   "cell_type": "code",
   "execution_count": 1,
   "metadata": {
    "_cell_guid": "b1076dfc-b9ad-4769-8c92-a6c4dae69d19",
    "_uuid": "8f2839f25d086af736a60e9eeb907d3b93b6e0e5",
    "execution": {
     "iopub.execute_input": "2022-11-10T00:24:00.277795Z",
     "iopub.status.busy": "2022-11-10T00:24:00.277431Z",
     "iopub.status.idle": "2022-11-10T00:24:00.290369Z",
     "shell.execute_reply": "2022-11-10T00:24:00.289637Z",
     "shell.execute_reply.started": "2022-11-10T00:24:00.277768Z"
    },
    "trusted": true
   },
   "outputs": [],
   "source": [
    "# This Python 3 environment comes with many helpful analytics libraries installed\n",
    "# It is defined by the kaggle/python Docker image: https://github.com/kaggle/docker-python\n",
    "# For example, here's several helpful packages to load\n",
    "\n",
    "import numpy as np # linear algebra\n",
    "import pandas as pd # data processing, CSV file I/O (e.g. pd.read_csv)\n",
    "\n",
    "# Input data files are available in the read-only \"../input/\" directory\n",
    "# For example, running this (by clicking run or pressing Shift+Enter) will list all files under the input directory\n",
    "\n",
    "import os\n",
    "for dirname, _, filenames in os.walk('/kaggle/input'):\n",
    "    for filename in filenames:\n",
    "        print(os.path.join(dirname, filename))\n",
    "\n",
    "# You can write up to 20GB to the current directory (/kaggle/working/) that gets preserved as output when you create a version using \"Save & Run All\" \n",
    "# You can also write temporary files to /kaggle/temp/, but they won't be saved outside of the current session"
   ]
  },
  {
   "cell_type": "markdown",
   "metadata": {},
   "source": [
    "# Dealing with Imbalanced Data\n",
    "In this notebook, we will go through some of the basic techinques for dealing with imbalanced datasets. This is a companion workbook for the 365 Data Science course on ML Process. This notebook only foucses on implementation. Check out the course or the documentation for the in-depth explanations of each approach. \n",
    "\n",
    "We will cover:\n",
    "- Random Oversampling\n",
    "- Random Undersampling \n",
    "- Synthetic Minority Oversampling (SMOTE)\n",
    "- Borderline SMOTE\n",
    "- Adaptive Synthetic Oversampling \n",
    "\n",
    "imblearn Documentation: https://imbalanced-learn.org/stable/\n",
    "\n",
    "### On the Data \n",
    "This dataset is a good representation of what you may see in the real world. Most data will have some imbalances, and in certain domains you will see a lot of inequality. You will likely see large imbalances in cases of expensive purchases or fraud detection."
   ]
  },
  {
   "cell_type": "code",
   "execution_count": 2,
   "metadata": {
    "execution": {
     "iopub.execute_input": "2022-11-10T00:24:40.498675Z",
     "iopub.status.busy": "2022-11-10T00:24:40.498260Z",
     "iopub.status.idle": "2022-11-10T00:24:40.533358Z",
     "shell.execute_reply": "2022-11-10T00:24:40.531818Z",
     "shell.execute_reply.started": "2022-11-10T00:24:40.498643Z"
    },
    "trusted": true
   },
   "outputs": [],
   "source": [
    "#Read in Data \n",
    "df_train = pd.read_csv('./data/aug_train.csv')"
   ]
  },
  {
   "cell_type": "markdown",
   "metadata": {},
   "source": [
    "As you can see below, the data is imbalanced with far more 0's than 1's. While there isn't a massive imbalance, using different sampling methods could help improve our model results. "
   ]
  },
  {
   "cell_type": "code",
   "execution_count": 3,
   "metadata": {
    "execution": {
     "iopub.execute_input": "2022-11-10T00:24:42.833778Z",
     "iopub.status.busy": "2022-11-10T00:24:42.833079Z",
     "iopub.status.idle": "2022-11-10T00:24:42.853956Z",
     "shell.execute_reply": "2022-11-10T00:24:42.852798Z",
     "shell.execute_reply.started": "2022-11-10T00:24:42.833742Z"
    },
    "trusted": true
   },
   "outputs": [
    {
     "data": {
      "application/vnd.microsoft.datawrangler.viewer.v0+json": {
       "columns": [
        {
         "name": "index",
         "rawType": "int64",
         "type": "integer"
        },
        {
         "name": "enrollee_id",
         "rawType": "int64",
         "type": "integer"
        },
        {
         "name": "city",
         "rawType": "object",
         "type": "string"
        },
        {
         "name": "city_development_index",
         "rawType": "float64",
         "type": "float"
        },
        {
         "name": "gender",
         "rawType": "object",
         "type": "unknown"
        },
        {
         "name": "relevent_experience",
         "rawType": "object",
         "type": "string"
        },
        {
         "name": "enrolled_university",
         "rawType": "object",
         "type": "unknown"
        },
        {
         "name": "education_level",
         "rawType": "object",
         "type": "string"
        },
        {
         "name": "major_discipline",
         "rawType": "object",
         "type": "string"
        },
        {
         "name": "experience",
         "rawType": "object",
         "type": "string"
        },
        {
         "name": "company_size",
         "rawType": "object",
         "type": "unknown"
        },
        {
         "name": "company_type",
         "rawType": "object",
         "type": "unknown"
        },
        {
         "name": "last_new_job",
         "rawType": "object",
         "type": "string"
        },
        {
         "name": "training_hours",
         "rawType": "int64",
         "type": "integer"
        },
        {
         "name": "target",
         "rawType": "float64",
         "type": "float"
        }
       ],
       "ref": "fef6e024-64d5-4d32-9f3b-818df089b7b7",
       "rows": [
        [
         "0",
         "8949",
         "city_103",
         "0.92",
         "Male",
         "Has relevent experience",
         "no_enrollment",
         "Graduate",
         "STEM",
         ">20",
         null,
         null,
         "1",
         "36",
         "1.0"
        ],
        [
         "1",
         "29725",
         "city_40",
         "0.7759999999999999",
         "Male",
         "No relevent experience",
         "no_enrollment",
         "Graduate",
         "STEM",
         "15",
         "50-99",
         "Pvt Ltd",
         ">4",
         "47",
         "0.0"
        ],
        [
         "2",
         "11561",
         "city_21",
         "0.624",
         null,
         "No relevent experience",
         "Full time course",
         "Graduate",
         "STEM",
         "5",
         null,
         null,
         "never",
         "83",
         "0.0"
        ],
        [
         "3",
         "33241",
         "city_115",
         "0.789",
         null,
         "No relevent experience",
         null,
         "Graduate",
         "Business Degree",
         "<1",
         null,
         "Pvt Ltd",
         "never",
         "52",
         "1.0"
        ],
        [
         "4",
         "666",
         "city_162",
         "0.767",
         "Male",
         "Has relevent experience",
         "no_enrollment",
         "Masters",
         "STEM",
         ">20",
         "50-99",
         "Funded Startup",
         "4",
         "8",
         "0.0"
        ]
       ],
       "shape": {
        "columns": 14,
        "rows": 5
       }
      },
      "text/html": [
       "<div>\n",
       "<style scoped>\n",
       "    .dataframe tbody tr th:only-of-type {\n",
       "        vertical-align: middle;\n",
       "    }\n",
       "\n",
       "    .dataframe tbody tr th {\n",
       "        vertical-align: top;\n",
       "    }\n",
       "\n",
       "    .dataframe thead th {\n",
       "        text-align: right;\n",
       "    }\n",
       "</style>\n",
       "<table border=\"1\" class=\"dataframe\">\n",
       "  <thead>\n",
       "    <tr style=\"text-align: right;\">\n",
       "      <th></th>\n",
       "      <th>enrollee_id</th>\n",
       "      <th>city</th>\n",
       "      <th>city_development_index</th>\n",
       "      <th>gender</th>\n",
       "      <th>relevent_experience</th>\n",
       "      <th>enrolled_university</th>\n",
       "      <th>education_level</th>\n",
       "      <th>major_discipline</th>\n",
       "      <th>experience</th>\n",
       "      <th>company_size</th>\n",
       "      <th>company_type</th>\n",
       "      <th>last_new_job</th>\n",
       "      <th>training_hours</th>\n",
       "      <th>target</th>\n",
       "    </tr>\n",
       "  </thead>\n",
       "  <tbody>\n",
       "    <tr>\n",
       "      <th>0</th>\n",
       "      <td>8949</td>\n",
       "      <td>city_103</td>\n",
       "      <td>0.920</td>\n",
       "      <td>Male</td>\n",
       "      <td>Has relevent experience</td>\n",
       "      <td>no_enrollment</td>\n",
       "      <td>Graduate</td>\n",
       "      <td>STEM</td>\n",
       "      <td>&gt;20</td>\n",
       "      <td>NaN</td>\n",
       "      <td>NaN</td>\n",
       "      <td>1</td>\n",
       "      <td>36</td>\n",
       "      <td>1.0</td>\n",
       "    </tr>\n",
       "    <tr>\n",
       "      <th>1</th>\n",
       "      <td>29725</td>\n",
       "      <td>city_40</td>\n",
       "      <td>0.776</td>\n",
       "      <td>Male</td>\n",
       "      <td>No relevent experience</td>\n",
       "      <td>no_enrollment</td>\n",
       "      <td>Graduate</td>\n",
       "      <td>STEM</td>\n",
       "      <td>15</td>\n",
       "      <td>50-99</td>\n",
       "      <td>Pvt Ltd</td>\n",
       "      <td>&gt;4</td>\n",
       "      <td>47</td>\n",
       "      <td>0.0</td>\n",
       "    </tr>\n",
       "    <tr>\n",
       "      <th>2</th>\n",
       "      <td>11561</td>\n",
       "      <td>city_21</td>\n",
       "      <td>0.624</td>\n",
       "      <td>NaN</td>\n",
       "      <td>No relevent experience</td>\n",
       "      <td>Full time course</td>\n",
       "      <td>Graduate</td>\n",
       "      <td>STEM</td>\n",
       "      <td>5</td>\n",
       "      <td>NaN</td>\n",
       "      <td>NaN</td>\n",
       "      <td>never</td>\n",
       "      <td>83</td>\n",
       "      <td>0.0</td>\n",
       "    </tr>\n",
       "    <tr>\n",
       "      <th>3</th>\n",
       "      <td>33241</td>\n",
       "      <td>city_115</td>\n",
       "      <td>0.789</td>\n",
       "      <td>NaN</td>\n",
       "      <td>No relevent experience</td>\n",
       "      <td>NaN</td>\n",
       "      <td>Graduate</td>\n",
       "      <td>Business Degree</td>\n",
       "      <td>&lt;1</td>\n",
       "      <td>NaN</td>\n",
       "      <td>Pvt Ltd</td>\n",
       "      <td>never</td>\n",
       "      <td>52</td>\n",
       "      <td>1.0</td>\n",
       "    </tr>\n",
       "    <tr>\n",
       "      <th>4</th>\n",
       "      <td>666</td>\n",
       "      <td>city_162</td>\n",
       "      <td>0.767</td>\n",
       "      <td>Male</td>\n",
       "      <td>Has relevent experience</td>\n",
       "      <td>no_enrollment</td>\n",
       "      <td>Masters</td>\n",
       "      <td>STEM</td>\n",
       "      <td>&gt;20</td>\n",
       "      <td>50-99</td>\n",
       "      <td>Funded Startup</td>\n",
       "      <td>4</td>\n",
       "      <td>8</td>\n",
       "      <td>0.0</td>\n",
       "    </tr>\n",
       "  </tbody>\n",
       "</table>\n",
       "</div>"
      ],
      "text/plain": [
       "   enrollee_id      city  city_development_index gender  \\\n",
       "0         8949  city_103                   0.920   Male   \n",
       "1        29725   city_40                   0.776   Male   \n",
       "2        11561   city_21                   0.624    NaN   \n",
       "3        33241  city_115                   0.789    NaN   \n",
       "4          666  city_162                   0.767   Male   \n",
       "\n",
       "       relevent_experience enrolled_university education_level  \\\n",
       "0  Has relevent experience       no_enrollment        Graduate   \n",
       "1   No relevent experience       no_enrollment        Graduate   \n",
       "2   No relevent experience    Full time course        Graduate   \n",
       "3   No relevent experience                 NaN        Graduate   \n",
       "4  Has relevent experience       no_enrollment         Masters   \n",
       "\n",
       "  major_discipline experience company_size    company_type last_new_job  \\\n",
       "0             STEM        >20          NaN             NaN            1   \n",
       "1             STEM         15        50-99         Pvt Ltd           >4   \n",
       "2             STEM          5          NaN             NaN        never   \n",
       "3  Business Degree         <1          NaN         Pvt Ltd        never   \n",
       "4             STEM        >20        50-99  Funded Startup            4   \n",
       "\n",
       "   training_hours  target  \n",
       "0              36     1.0  \n",
       "1              47     0.0  \n",
       "2              83     0.0  \n",
       "3              52     1.0  \n",
       "4               8     0.0  "
      ]
     },
     "execution_count": 3,
     "metadata": {},
     "output_type": "execute_result"
    }
   ],
   "source": [
    "df_train.head()"
   ]
  },
  {
   "cell_type": "code",
   "execution_count": 4,
   "metadata": {
    "execution": {
     "iopub.execute_input": "2022-11-10T00:25:05.129227Z",
     "iopub.status.busy": "2022-11-10T00:25:05.127848Z",
     "iopub.status.idle": "2022-11-10T00:25:05.139740Z",
     "shell.execute_reply": "2022-11-10T00:25:05.138695Z",
     "shell.execute_reply.started": "2022-11-10T00:25:05.129168Z"
    },
    "trusted": true
   },
   "outputs": [
    {
     "data": {
      "application/vnd.microsoft.datawrangler.viewer.v0+json": {
       "columns": [
        {
         "name": "target",
         "rawType": "float64",
         "type": "float"
        },
        {
         "name": "count",
         "rawType": "int64",
         "type": "integer"
        }
       ],
       "ref": "7a1e21ab-06b4-4c2f-86e0-bd1735c5ada2",
       "rows": [
        [
         "0.0",
         "14381"
        ],
        [
         "1.0",
         "4777"
        ]
       ],
       "shape": {
        "columns": 1,
        "rows": 2
       }
      },
      "text/plain": [
       "target\n",
       "0.0    14381\n",
       "1.0     4777\n",
       "Name: count, dtype: int64"
      ]
     },
     "execution_count": 4,
     "metadata": {},
     "output_type": "execute_result"
    }
   ],
   "source": [
    "df_train.target.value_counts()"
   ]
  },
  {
   "cell_type": "code",
   "execution_count": 5,
   "metadata": {
    "execution": {
     "iopub.execute_input": "2022-11-10T00:25:28.784179Z",
     "iopub.status.busy": "2022-11-10T00:25:28.783783Z",
     "iopub.status.idle": "2022-11-10T00:25:28.868091Z",
     "shell.execute_reply": "2022-11-10T00:25:28.866768Z",
     "shell.execute_reply.started": "2022-11-10T00:25:28.784150Z"
    },
    "trusted": true
   },
   "outputs": [],
   "source": [
    "#create validation dataset to see how different sampling methocds could impact model outcomes\n",
    "from sklearn.model_selection import train_test_split\n",
    "\n",
    "X = pd.get_dummies(df_train.drop(['enrollee_id','target'], axis =1))\n",
    "y = df_train[['target']]\n",
    "\n",
    "X_train, X_test, y_train, y_test = train_test_split(X, y, test_size=0.2, random_state=42)"
   ]
  },
  {
   "cell_type": "code",
   "execution_count": 6,
   "metadata": {
    "execution": {
     "iopub.execute_input": "2022-11-10T00:25:39.718434Z",
     "iopub.status.busy": "2022-11-10T00:25:39.718048Z",
     "iopub.status.idle": "2022-11-10T00:25:39.855259Z",
     "shell.execute_reply": "2022-11-10T00:25:39.853642Z",
     "shell.execute_reply.started": "2022-11-10T00:25:39.718406Z"
    },
    "trusted": true
   },
   "outputs": [
    {
     "data": {
      "text/plain": [
       "<Axes: xlabel='target'>"
      ]
     },
     "execution_count": 6,
     "metadata": {},
     "output_type": "execute_result"
    },
    {
     "data": {
      "image/png": "[encoded data removed]",
      "text/plain": [
       "<Figure size 640x480 with 1 Axes>"
      ]
     },
     "metadata": {},
     "output_type": "display_data"
    }
   ],
   "source": [
    "# see imblance in data majority is not looking for a job change (0)\n",
    "y_train.value_counts().plot.bar()"
   ]
  },
  {
   "cell_type": "code",
   "execution_count": 7,
   "metadata": {
    "execution": {
     "iopub.execute_input": "2022-11-10T00:25:58.087345Z",
     "iopub.status.busy": "2022-11-10T00:25:58.086915Z",
     "iopub.status.idle": "2022-11-10T00:25:58.094044Z",
     "shell.execute_reply": "2022-11-10T00:25:58.093085Z",
     "shell.execute_reply.started": "2022-11-10T00:25:58.087313Z"
    },
    "trusted": true
   },
   "outputs": [
    {
     "data": {
      "text/plain": [
       "Index(['enrollee_id', 'city', 'city_development_index', 'gender',\n",
       "       'relevent_experience', 'enrolled_university', 'education_level',\n",
       "       'major_discipline', 'experience', 'company_size', 'company_type',\n",
       "       'last_new_job', 'training_hours', 'target'],\n",
       "      dtype='object')"
      ]
     },
     "execution_count": 7,
     "metadata": {},
     "output_type": "execute_result"
    }
   ],
   "source": [
    "df_train.columns"
   ]
  },
  {
   "cell_type": "code",
   "execution_count": null,
   "metadata": {
    "execution": {
     "iopub.execute_input": "2022-10-10T03:59:49.313888Z",
     "iopub.status.busy": "2022-10-10T03:59:49.313474Z",
     "iopub.status.idle": "2022-10-10T03:59:49.318039Z",
     "shell.execute_reply": "2022-10-10T03:59:49.316976Z",
     "shell.execute_reply.started": "2022-10-10T03:59:49.313834Z"
    },
    "trusted": true
   },
   "outputs": [],
   "source": [
    "# model to validate on \n"
   ]
  },
  {
   "cell_type": "markdown",
   "metadata": {},
   "source": [
    "## Parameters \n",
    "\n",
    "### For all sampling models\n",
    "\n",
    "sampling_strategy: float, str, dict or callable, default=’auto’\n",
    "\n",
    ">- float\n",
    "    - When float, it corresponds to the desired ratio of the number of samples in the minority class over \n",
    "    the number of samples in the majority class after resampling. Therefore, the ratio is expressed as \n",
    "    \\alpha_{os} = N_{rm} / N_{M} where N_{rm} is the number of samples in the minority class after \n",
    "    resampling and N_{M} is the number of samples in the majority class.\n",
    ">- str\n",
    ">    - 'minority': resample only the minority class;\n",
    ">\n",
    ">    - 'not minority': resample all classes but the minority class;\n",
    ">\n",
    ">    - 'not majority': resample all classes but the majority class;\n",
    ">\n",
    ">    - 'all': resample all classes;\n",
    ">\n",
    ">    - 'auto': equivalent to 'not majority'. \n",
    ">- dict\n",
    "    - When dict, the keys correspond to the targeted classes. The values correspond to the desired number\n",
    "    of samples for each targeted class.\n",
    "\n",
    "random_state: int, RandomState instance, default=None \n",
    "- int --> Most cases use this to set a consistent random state\n",
    "\n",
    "shrinkage: float or dict, default=None\n",
    "- Shrinkage allows us to add slight noise to our data so that our resampled variables don't perfectly overlap. This could be useful for normalization of our results. A good example of how this works is located here: https://imbalanced-learn.org/stable/auto_examples/over-sampling/plot_shrinkage_effect.html\n",
    ">- if **None**, a normal bootstrap will be generated without perturbation. It is equivalent to shrinkage=0 as well\n",
    ">- if a **float** is given, the shrinkage factor will be used for all classes to generate the smoothed bootstrap;\n",
    ">- if a **dict** is given, the shrinkage factor will specific for each class. The key correspond to the targeted class and the value is the shrinkage factor.\n",
    "\n",
    "### For Smote and Borderline Smote\n",
    "k_neighbor: sint or object, default=5\n",
    ">- If int, number of nearest neighbours to used to construct synthetic samples. If object, an estimator that inherits from KNeighborsMixin that will be used to find the k_neighbors.\n",
    "\n",
    "n_jobs: int, default=None\n",
    ">- Number of CPU cores used during the cross-validation loop. None means 1 unless in a joblib.parallel_backend context. -1 means using all processors. See Glossary for more details.\n",
    "\n",
    "### For Borderline Smote\n",
    "kind: {“borderline-1”, “borderline-2”}, default=’borderline-1’\n",
    ">- The type of SMOTE algorithm to use one of the following options: 'borderline-1', 'borderline-2'.\n",
    ">    -Breakdown of difference between borderline-1 and borderline-2: https://sci2s.ugr.es/keel/pdf/specific/congreso/han_borderline_smote.pdf\n",
    "\n",
    "Copied from Docs: https://imbalanced-learn.org/stable/references/generated/imblearn.over_sampling.RandomOverSampler.html\n",
    "Smote: https://imbalanced-learn.org/stable/references/generated/imblearn.over_sampling.SMOTE.html\n",
    "Borderline Smote: https://imbalanced-learn.org/stable/references/generated/imblearn.over_sampling.BorderlineSMOTE.html"
   ]
  },
  {
   "cell_type": "markdown",
   "metadata": {},
   "source": [
    "# Random Oversampling\n",
    "Random Oversampling is simply randomly picking data points in our minority class and duplicating them. "
   ]
  },
  {
   "cell_type": "code",
   "execution_count": 9,
   "metadata": {
    "execution": {
     "iopub.execute_input": "2022-11-10T00:34:12.013014Z",
     "iopub.status.busy": "2022-11-10T00:34:12.012605Z",
     "iopub.status.idle": "2022-11-10T00:34:12.102417Z",
     "shell.execute_reply": "2022-11-10T00:34:12.101453Z",
     "shell.execute_reply.started": "2022-11-10T00:34:12.012969Z"
    },
    "trusted": true
   },
   "outputs": [
    {
     "name": "stderr",
     "output_type": "stream",
     "text": [
      "/Users/chongbei/Workspace/python/initial-bid/bid-env/lib/python3.9/site-packages/sklearn/base.py:484: FutureWarning: `BaseEstimator._check_n_features` is deprecated in 1.6 and will be removed in 1.7. Use `sklearn.utils.validation._check_n_features` instead.\n",
      "  warnings.warn(\n",
      "/Users/chongbei/Workspace/python/initial-bid/bid-env/lib/python3.9/site-packages/sklearn/base.py:493: FutureWarning: `BaseEstimator._check_feature_names` is deprecated in 1.6 and will be removed in 1.7. Use `sklearn.utils.validation._check_feature_names` instead.\n",
      "  warnings.warn(\n"
     ]
    }
   ],
   "source": [
    "from imblearn.over_sampling import RandomOverSampler\n",
    "\n",
    "o_smpl = RandomOverSampler(random_state = 42) \n",
    "\n",
    "X_o_smpl, y_o_smpl = o_smpl.fit_resample(X_train,y_train)\n"
   ]
  },
  {
   "cell_type": "code",
   "execution_count": 10,
   "metadata": {
    "execution": {
     "iopub.execute_input": "2022-11-10T00:29:58.264831Z",
     "iopub.status.busy": "2022-11-10T00:29:58.264413Z",
     "iopub.status.idle": "2022-11-10T00:29:58.399156Z",
     "shell.execute_reply": "2022-11-10T00:29:58.398389Z",
     "shell.execute_reply.started": "2022-11-10T00:29:58.264800Z"
    },
    "trusted": true
   },
   "outputs": [
    {
     "data": {
      "text/plain": [
       "<Axes: xlabel='target'>"
      ]
     },
     "execution_count": 10,
     "metadata": {},
     "output_type": "execute_result"
    },
    {
     "data": {
      "image/png": "[encoded data removed]",
      "text/plain": [
       "<Figure size 640x480 with 1 Axes>"
      ]
     },
     "metadata": {},
     "output_type": "display_data"
    }
   ],
   "source": [
    "y_o_smpl.value_counts().plot.bar()"
   ]
  },
  {
   "cell_type": "markdown",
   "metadata": {},
   "source": [
    "# Random Undersampling\n",
    "Random Undersampling is simply randomly picking data points in our majority class and removing them. "
   ]
  },
  {
   "cell_type": "code",
   "execution_count": 11,
   "metadata": {
    "execution": {
     "iopub.execute_input": "2022-11-10T00:34:19.981582Z",
     "iopub.status.busy": "2022-11-10T00:34:19.981172Z",
     "iopub.status.idle": "2022-11-10T00:34:20.044780Z",
     "shell.execute_reply": "2022-11-10T00:34:20.043285Z",
     "shell.execute_reply.started": "2022-11-10T00:34:19.981549Z"
    },
    "trusted": true
   },
   "outputs": [
    {
     "name": "stderr",
     "output_type": "stream",
     "text": [
      "/Users/chongbei/Workspace/python/initial-bid/bid-env/lib/python3.9/site-packages/sklearn/base.py:484: FutureWarning: `BaseEstimator._check_n_features` is deprecated in 1.6 and will be removed in 1.7. Use `sklearn.utils.validation._check_n_features` instead.\n",
      "  warnings.warn(\n",
      "/Users/chongbei/Workspace/python/initial-bid/bid-env/lib/python3.9/site-packages/sklearn/base.py:493: FutureWarning: `BaseEstimator._check_feature_names` is deprecated in 1.6 and will be removed in 1.7. Use `sklearn.utils.validation._check_feature_names` instead.\n",
      "  warnings.warn(\n"
     ]
    }
   ],
   "source": [
    "from imblearn.under_sampling import RandomUnderSampler\n",
    "\n",
    "u_smpl = RandomUnderSampler(random_state = 42) \n",
    "\n",
    "X_u_smpl, y_u_smpl = u_smpl.fit_resample(X_train,y_train)\n"
   ]
  },
  {
   "cell_type": "code",
   "execution_count": 12,
   "metadata": {
    "execution": {
     "iopub.execute_input": "2022-11-10T00:30:25.529404Z",
     "iopub.status.busy": "2022-11-10T00:30:25.528975Z",
     "iopub.status.idle": "2022-11-10T00:30:25.670538Z",
     "shell.execute_reply": "2022-11-10T00:30:25.669428Z",
     "shell.execute_reply.started": "2022-11-10T00:30:25.529362Z"
    },
    "trusted": true
   },
   "outputs": [
    {
     "data": {
      "text/plain": [
       "<Axes: xlabel='target'>"
      ]
     },
     "execution_count": 12,
     "metadata": {},
     "output_type": "execute_result"
    },
    {
     "data": {
      "image/png": "[encoded data removed]",
      "text/plain": [
       "<Figure size 640x480 with 1 Axes>"
      ]
     },
     "metadata": {},
     "output_type": "display_data"
    }
   ],
   "source": [
    "#note how many less total rows we have now \n",
    "y_u_smpl.value_counts().plot.bar()"
   ]
  },
  {
   "cell_type": "markdown",
   "metadata": {},
   "source": [
    "# Synthetic Minority Oversampling (SMOTE)\n",
    "Synthetic Minority Oversampling (SMOTE) is an oversampling technique that creates synthetic data points. SMOTE address’ the core problem in oversampling. Oversampling creates duplicate datapoints whereas SMOTE slightly alters these data points. "
   ]
  },
  {
   "cell_type": "code",
   "execution_count": 13,
   "metadata": {
    "execution": {
     "iopub.execute_input": "2022-11-10T00:34:23.384083Z",
     "iopub.status.busy": "2022-11-10T00:34:23.383704Z",
     "iopub.status.idle": "2022-11-10T00:34:23.780124Z",
     "shell.execute_reply": "2022-11-10T00:34:23.779071Z",
     "shell.execute_reply.started": "2022-11-10T00:34:23.384055Z"
    },
    "trusted": true
   },
   "outputs": [
    {
     "name": "stderr",
     "output_type": "stream",
     "text": [
      "/Users/chongbei/Workspace/python/initial-bid/bid-env/lib/python3.9/site-packages/sklearn/base.py:474: FutureWarning: `BaseEstimator._validate_data` is deprecated in 1.6 and will be removed in 1.7. Use `sklearn.utils.validation.validate_data` instead. This function becomes public and is part of the scikit-learn developer API.\n",
      "  warnings.warn(\n"
     ]
    }
   ],
   "source": [
    "from imblearn.over_sampling import SMOTE \n",
    "\n",
    "smote = SMOTE(random_state = 42) \n",
    "\n",
    "X_smote, y_smote = smote.fit_resample(X_train,y_train)"
   ]
  },
  {
   "cell_type": "code",
   "execution_count": 14,
   "metadata": {
    "execution": {
     "iopub.execute_input": "2022-11-10T00:31:08.692027Z",
     "iopub.status.busy": "2022-11-10T00:31:08.691580Z",
     "iopub.status.idle": "2022-11-10T00:31:08.839747Z",
     "shell.execute_reply": "2022-11-10T00:31:08.838886Z",
     "shell.execute_reply.started": "2022-11-10T00:31:08.691996Z"
    },
    "trusted": true
   },
   "outputs": [
    {
     "data": {
      "text/plain": [
       "<Axes: xlabel='target'>"
      ]
     },
     "execution_count": 14,
     "metadata": {},
     "output_type": "execute_result"
    },
    {
     "data": {
      "image/png": "[encoded data removed]",
      "text/plain": [
       "<Figure size 640x480 with 1 Axes>"
      ]
     },
     "metadata": {},
     "output_type": "display_data"
    }
   ],
   "source": [
    "y_smote.value_counts().plot.bar()"
   ]
  },
  {
   "cell_type": "markdown",
   "metadata": {},
   "source": [
    "# Borderline Smote\n",
    "The idea behind borderline SMOTE is that we only want to use data that’s at risk of being misclassified as the data to be oversampled. In this case, we build a classifier to classify points as positive or negative. Then, for the data points we misclassify, we oversample those data points. This would hopefully train our algorithm to better recognize these difficult instances and correct for them. "
   ]
  },
  {
   "cell_type": "code",
   "execution_count": 15,
   "metadata": {
    "execution": {
     "iopub.execute_input": "2022-11-10T00:34:27.567601Z",
     "iopub.status.busy": "2022-11-10T00:34:27.566960Z",
     "iopub.status.idle": "2022-11-10T00:34:29.062360Z",
     "shell.execute_reply": "2022-11-10T00:34:29.060548Z",
     "shell.execute_reply.started": "2022-11-10T00:34:27.567559Z"
    },
    "trusted": true
   },
   "outputs": [
    {
     "name": "stderr",
     "output_type": "stream",
     "text": [
      "/Users/chongbei/Workspace/python/initial-bid/bid-env/lib/python3.9/site-packages/sklearn/base.py:474: FutureWarning: `BaseEstimator._validate_data` is deprecated in 1.6 and will be removed in 1.7. Use `sklearn.utils.validation.validate_data` instead. This function becomes public and is part of the scikit-learn developer API.\n",
      "  warnings.warn(\n"
     ]
    }
   ],
   "source": [
    "from imblearn.over_sampling import BorderlineSMOTE\n",
    "\n",
    "bsmote = BorderlineSMOTE(random_state = 42) \n",
    "\n",
    "X_bsmote, y_bsmote = bsmote.fit_resample(X_train,y_train)"
   ]
  },
  {
   "cell_type": "code",
   "execution_count": 16,
   "metadata": {
    "execution": {
     "iopub.execute_input": "2022-11-10T00:31:53.106704Z",
     "iopub.status.busy": "2022-11-10T00:31:53.105813Z",
     "iopub.status.idle": "2022-11-10T00:31:53.243382Z",
     "shell.execute_reply": "2022-11-10T00:31:53.242235Z",
     "shell.execute_reply.started": "2022-11-10T00:31:53.106661Z"
    },
    "trusted": true
   },
   "outputs": [
    {
     "data": {
      "text/plain": [
       "<Axes: xlabel='target'>"
      ]
     },
     "execution_count": 16,
     "metadata": {},
     "output_type": "execute_result"
    },
    {
     "data": {
      "image/png": "[encoded data removed]",
      "text/plain": [
       "<Figure size 640x480 with 1 Axes>"
      ]
     },
     "metadata": {},
     "output_type": "display_data"
    }
   ],
   "source": [
    "y_bsmote.value_counts().plot.bar()"
   ]
  },
  {
   "cell_type": "markdown",
   "metadata": {},
   "source": [
    "# Adaptive Synthetic Oversampling (ADASYN)\n",
    "The idea behind AdaSyn is to use a weight distribution of our minority class. Essentially, we give higher weight to instances that are more difficult to learn and lower weight to instances that are easier to learn. AdaSyn is very similar to safe-level SMOTE, except there’s just a different way of computing the synthetic data points. "
   ]
  },
  {
   "cell_type": "code",
   "execution_count": 17,
   "metadata": {
    "execution": {
     "iopub.execute_input": "2022-11-10T00:34:31.903098Z",
     "iopub.status.busy": "2022-11-10T00:34:31.901534Z",
     "iopub.status.idle": "2022-11-10T00:34:33.466763Z",
     "shell.execute_reply": "2022-11-10T00:34:33.465628Z",
     "shell.execute_reply.started": "2022-11-10T00:34:31.903033Z"
    },
    "trusted": true
   },
   "outputs": [
    {
     "name": "stderr",
     "output_type": "stream",
     "text": [
      "/Users/chongbei/Workspace/python/initial-bid/bid-env/lib/python3.9/site-packages/sklearn/base.py:474: FutureWarning: `BaseEstimator._validate_data` is deprecated in 1.6 and will be removed in 1.7. Use `sklearn.utils.validation.validate_data` instead. This function becomes public and is part of the scikit-learn developer API.\n",
      "  warnings.warn(\n"
     ]
    }
   ],
   "source": [
    "from imblearn.over_sampling import ADASYN \n",
    "adasyn = ADASYN(random_state = 42) \n",
    "\n",
    "X_ada, y_ada = adasyn.fit_resample(X_train,y_train)"
   ]
  },
  {
   "cell_type": "code",
   "execution_count": 18,
   "metadata": {
    "execution": {
     "iopub.execute_input": "2022-11-10T00:32:47.920209Z",
     "iopub.status.busy": "2022-11-10T00:32:47.919815Z",
     "iopub.status.idle": "2022-11-10T00:32:48.053857Z",
     "shell.execute_reply": "2022-11-10T00:32:48.052845Z",
     "shell.execute_reply.started": "2022-11-10T00:32:47.920176Z"
    },
    "trusted": true
   },
   "outputs": [
    {
     "data": {
      "text/plain": [
       "<Axes: xlabel='target'>"
      ]
     },
     "execution_count": 18,
     "metadata": {},
     "output_type": "execute_result"
    },
    {
     "data": {
      "image/png": "[encoded data removed]",
      "text/plain": [
       "<Figure size 640x480 with 1 Axes>"
      ]
     },
     "metadata": {},
     "output_type": "display_data"
    }
   ],
   "source": [
    "y_ada.value_counts().plot.bar()"
   ]
  },
  {
   "cell_type": "markdown",
   "metadata": {},
   "source": [
    "# How do these compare?\n",
    "Let's quickly compare our sampling techniques by looking at the differences in the sampling data. Then let's compare the results of after feeding them into a model. This is just a little experiment, but it can show how much of a difference sampling can make depending on your data and models. \n",
    "\n",
    "Let's train a simple random forest on each of the different types of samples, then let's see the difference in validation accuracy. "
   ]
  },
  {
   "cell_type": "code",
   "execution_count": 19,
   "metadata": {
    "execution": {
     "iopub.execute_input": "2022-11-10T00:33:03.971446Z",
     "iopub.status.busy": "2022-11-10T00:33:03.971072Z",
     "iopub.status.idle": "2022-11-10T00:33:04.100020Z",
     "shell.execute_reply": "2022-11-10T00:33:04.099039Z",
     "shell.execute_reply.started": "2022-11-10T00:33:03.971415Z"
    },
    "trusted": true
   },
   "outputs": [
    {
     "name": "stdout",
     "output_type": "stream",
     "text": [
      "city_development_index Differences:\n",
      "0.8050509955656031\n",
      "0.80436820395352\n",
      "0.8066204040304823\n",
      "0.8084698177441348\n",
      "training_hours Differences:\n",
      "64.42535431701592\n",
      "64.32136335970785\n",
      "65.5342578906182\n",
      "65.87542772989129\n"
     ]
    }
   ],
   "source": [
    "#let's explore a few variables across these 4 different oversampling techniques across two variables 'city_development_index' and 'training_hours'\n",
    "\n",
    "print('city_development_index Differences:')\n",
    "for i in [X_o_smpl, X_smote, X_bsmote, X_ada]:\n",
    "    print(i.mean()['city_development_index'])\n",
    "\n",
    "print('training_hours Differences:')\n",
    "for i in [X_o_smpl, X_smote, X_bsmote, X_ada]:\n",
    "    print(i.mean()['training_hours'])\n",
    "    \n",
    "#what is important here is that there are differences in the sampling of each techinque, not where the differences come in these two variables "
   ]
  },
  {
   "cell_type": "code",
   "execution_count": 20,
   "metadata": {
    "execution": {
     "iopub.execute_input": "2022-11-10T00:34:53.040093Z",
     "iopub.status.busy": "2022-11-10T00:34:53.039680Z",
     "iopub.status.idle": "2022-11-10T00:35:13.865488Z",
     "shell.execute_reply": "2022-11-10T00:35:13.863767Z",
     "shell.execute_reply.started": "2022-11-10T00:34:53.040063Z"
    },
    "trusted": true
   },
   "outputs": [
    {
     "name": "stderr",
     "output_type": "stream",
     "text": [
      "/Users/chongbei/Workspace/python/initial-bid/bid-env/lib/python3.9/site-packages/sklearn/base.py:1389: DataConversionWarning: A column-vector y was passed when a 1d array was expected. Please change the shape of y to (n_samples,), for example using ravel().\n",
      "  return fit_method(estimator, *args, **kwargs)\n",
      "/Users/chongbei/Workspace/python/initial-bid/bid-env/lib/python3.9/site-packages/sklearn/base.py:1389: DataConversionWarning: A column-vector y was passed when a 1d array was expected. Please change the shape of y to (n_samples,), for example using ravel().\n",
      "  return fit_method(estimator, *args, **kwargs)\n",
      "/Users/chongbei/Workspace/python/initial-bid/bid-env/lib/python3.9/site-packages/sklearn/base.py:1389: DataConversionWarning: A column-vector y was passed when a 1d array was expected. Please change the shape of y to (n_samples,), for example using ravel().\n",
      "  return fit_method(estimator, *args, **kwargs)\n",
      "/Users/chongbei/Workspace/python/initial-bid/bid-env/lib/python3.9/site-packages/sklearn/base.py:1389: DataConversionWarning: A column-vector y was passed when a 1d array was expected. Please change the shape of y to (n_samples,), for example using ravel().\n",
      "  return fit_method(estimator, *args, **kwargs)\n",
      "/Users/chongbei/Workspace/python/initial-bid/bid-env/lib/python3.9/site-packages/sklearn/base.py:1389: DataConversionWarning: A column-vector y was passed when a 1d array was expected. Please change the shape of y to (n_samples,), for example using ravel().\n",
      "  return fit_method(estimator, *args, **kwargs)\n"
     ]
    },
    {
     "name": "stdout",
     "output_type": "stream",
     "text": [
      "Oversampling Score: 0.780\n",
      "Undersampling Score: 0.754\n",
      "SMOTE Score: 0.777 \n",
      "Borderline SMOTE Score: 0.775\n",
      "ADASYN Score: 0.776\n"
     ]
    }
   ],
   "source": [
    "from sklearn.ensemble import RandomForestClassifier\n",
    "from sklearn.metrics import accuracy_score\n",
    "\n",
    "#oversampling model \n",
    "clf_os = RandomForestClassifier(random_state=0)\n",
    "clf_os.fit(X_o_smpl, y_o_smpl)\n",
    "os_pred = clf_os.predict(X_test)\n",
    "\n",
    "#undersampling model \n",
    "clf_us = RandomForestClassifier(random_state=0)\n",
    "clf_us.fit(X_u_smpl, y_u_smpl)\n",
    "us_pred = clf_us.predict(X_test)\n",
    "\n",
    "#SMOTE \n",
    "clf_sm = RandomForestClassifier(random_state=0)\n",
    "clf_sm.fit(X_smote, y_smote)\n",
    "sm_pred = clf_sm.predict(X_test)\n",
    "\n",
    "#borderline SMOTE \n",
    "clf_bsm = RandomForestClassifier(random_state=0)\n",
    "clf_bsm.fit(X_bsmote, y_bsmote)\n",
    "bsm_pred = clf_bsm.predict(X_test)\n",
    "\n",
    "#ADDASYN\n",
    "clf_ada = RandomForestClassifier(random_state=0)\n",
    "clf_ada.fit(X_ada, y_ada)\n",
    "ada_pred = clf_ada.predict(X_test)\n",
    "\n",
    "print('Oversampling Score: %.3f' % accuracy_score(y_test,os_pred))\n",
    "print('Undersampling Score: %.3f' % accuracy_score(y_test,us_pred))\n",
    "print('SMOTE Score: %.3f '% accuracy_score(y_test,sm_pred))\n",
    "print('Borderline SMOTE Score: %.3f'% accuracy_score(y_test,bsm_pred))\n",
    "print('ADASYN Score: %.3f'% accuracy_score(y_test,ada_pred))"
   ]
  },
  {
   "cell_type": "code",
   "execution_count": 21,
   "metadata": {
    "execution": {
     "iopub.execute_input": "2022-11-10T00:36:16.081675Z",
     "iopub.status.busy": "2022-11-10T00:36:16.081312Z",
     "iopub.status.idle": "2022-11-10T00:36:19.351514Z",
     "shell.execute_reply": "2022-11-10T00:36:19.350304Z",
     "shell.execute_reply.started": "2022-11-10T00:36:16.081647Z"
    },
    "trusted": true
   },
   "outputs": [
    {
     "name": "stderr",
     "output_type": "stream",
     "text": [
      "/Users/chongbei/Workspace/python/initial-bid/bid-env/lib/python3.9/site-packages/sklearn/base.py:1389: DataConversionWarning: A column-vector y was passed when a 1d array was expected. Please change the shape of y to (n_samples,), for example using ravel().\n",
      "  return fit_method(estimator, *args, **kwargs)\n"
     ]
    },
    {
     "name": "stdout",
     "output_type": "stream",
     "text": [
      "No Change Score: 0.776\n"
     ]
    }
   ],
   "source": [
    "clf = RandomForestClassifier(random_state=0)\n",
    "clf.fit(X_train, y_train)\n",
    "pred = clf_ada.predict(X_test)\n",
    "print('No Change Score: %.3f'% accuracy_score(y_test,pred))"
   ]
  },
  {
   "cell_type": "code",
   "execution_count": null,
   "metadata": {
    "execution": {
     "iopub.execute_input": "2022-11-10T00:36:46.604115Z",
     "iopub.status.busy": "2022-11-10T00:36:46.602806Z",
     "iopub.status.idle": "2022-11-10T00:36:46.608545Z",
     "shell.execute_reply": "2022-11-10T00:36:46.607466Z",
     "shell.execute_reply.started": "2022-11-10T00:36:46.604071Z"
    },
    "trusted": true
   },
   "outputs": [],
   "source": [
    "#now let's tune some features in SMOTE to see if we get slightly better results. Let's do this with SMOTE"
   ]
  },
  {
   "cell_type": "code",
   "execution_count": 22,
   "metadata": {
    "execution": {
     "iopub.execute_input": "2022-11-10T00:37:04.868182Z",
     "iopub.status.busy": "2022-11-10T00:37:04.867808Z",
     "iopub.status.idle": "2022-11-10T00:37:54.419029Z",
     "shell.execute_reply": "2022-11-10T00:37:54.417578Z",
     "shell.execute_reply.started": "2022-11-10T00:37:04.868155Z"
    },
    "trusted": true
   },
   "outputs": [
    {
     "name": "stderr",
     "output_type": "stream",
     "text": [
      "/Users/chongbei/Workspace/python/initial-bid/bid-env/lib/python3.9/site-packages/sklearn/base.py:474: FutureWarning: `BaseEstimator._validate_data` is deprecated in 1.6 and will be removed in 1.7. Use `sklearn.utils.validation.validate_data` instead. This function becomes public and is part of the scikit-learn developer API.\n",
      "  warnings.warn(\n"
     ]
    },
    {
     "name": "stdout",
     "output_type": "stream",
     "text": [
      "K = 1\n",
      "SMOTE Score: 0.782 \n"
     ]
    },
    {
     "name": "stderr",
     "output_type": "stream",
     "text": [
      "/Users/chongbei/Workspace/python/initial-bid/bid-env/lib/python3.9/site-packages/sklearn/base.py:474: FutureWarning: `BaseEstimator._validate_data` is deprecated in 1.6 and will be removed in 1.7. Use `sklearn.utils.validation.validate_data` instead. This function becomes public and is part of the scikit-learn developer API.\n",
      "  warnings.warn(\n"
     ]
    },
    {
     "name": "stdout",
     "output_type": "stream",
     "text": [
      "K = 2\n",
      "SMOTE Score: 0.774 \n"
     ]
    },
    {
     "name": "stderr",
     "output_type": "stream",
     "text": [
      "/Users/chongbei/Workspace/python/initial-bid/bid-env/lib/python3.9/site-packages/sklearn/base.py:474: FutureWarning: `BaseEstimator._validate_data` is deprecated in 1.6 and will be removed in 1.7. Use `sklearn.utils.validation.validate_data` instead. This function becomes public and is part of the scikit-learn developer API.\n",
      "  warnings.warn(\n"
     ]
    },
    {
     "name": "stdout",
     "output_type": "stream",
     "text": [
      "K = 3\n",
      "SMOTE Score: 0.776 \n"
     ]
    },
    {
     "name": "stderr",
     "output_type": "stream",
     "text": [
      "/Users/chongbei/Workspace/python/initial-bid/bid-env/lib/python3.9/site-packages/sklearn/base.py:474: FutureWarning: `BaseEstimator._validate_data` is deprecated in 1.6 and will be removed in 1.7. Use `sklearn.utils.validation.validate_data` instead. This function becomes public and is part of the scikit-learn developer API.\n",
      "  warnings.warn(\n"
     ]
    },
    {
     "name": "stdout",
     "output_type": "stream",
     "text": [
      "K = 4\n",
      "SMOTE Score: 0.776 \n"
     ]
    },
    {
     "name": "stderr",
     "output_type": "stream",
     "text": [
      "/Users/chongbei/Workspace/python/initial-bid/bid-env/lib/python3.9/site-packages/sklearn/base.py:474: FutureWarning: `BaseEstimator._validate_data` is deprecated in 1.6 and will be removed in 1.7. Use `sklearn.utils.validation.validate_data` instead. This function becomes public and is part of the scikit-learn developer API.\n",
      "  warnings.warn(\n"
     ]
    },
    {
     "name": "stdout",
     "output_type": "stream",
     "text": [
      "K = 5\n",
      "SMOTE Score: 0.777 \n"
     ]
    },
    {
     "name": "stderr",
     "output_type": "stream",
     "text": [
      "/Users/chongbei/Workspace/python/initial-bid/bid-env/lib/python3.9/site-packages/sklearn/base.py:474: FutureWarning: `BaseEstimator._validate_data` is deprecated in 1.6 and will be removed in 1.7. Use `sklearn.utils.validation.validate_data` instead. This function becomes public and is part of the scikit-learn developer API.\n",
      "  warnings.warn(\n"
     ]
    },
    {
     "name": "stdout",
     "output_type": "stream",
     "text": [
      "K = 6\n",
      "SMOTE Score: 0.777 \n"
     ]
    },
    {
     "name": "stderr",
     "output_type": "stream",
     "text": [
      "/Users/chongbei/Workspace/python/initial-bid/bid-env/lib/python3.9/site-packages/sklearn/base.py:474: FutureWarning: `BaseEstimator._validate_data` is deprecated in 1.6 and will be removed in 1.7. Use `sklearn.utils.validation.validate_data` instead. This function becomes public and is part of the scikit-learn developer API.\n",
      "  warnings.warn(\n"
     ]
    },
    {
     "name": "stdout",
     "output_type": "stream",
     "text": [
      "K = 7\n",
      "SMOTE Score: 0.781 \n"
     ]
    },
    {
     "name": "stderr",
     "output_type": "stream",
     "text": [
      "/Users/chongbei/Workspace/python/initial-bid/bid-env/lib/python3.9/site-packages/sklearn/base.py:474: FutureWarning: `BaseEstimator._validate_data` is deprecated in 1.6 and will be removed in 1.7. Use `sklearn.utils.validation.validate_data` instead. This function becomes public and is part of the scikit-learn developer API.\n",
      "  warnings.warn(\n"
     ]
    },
    {
     "name": "stdout",
     "output_type": "stream",
     "text": [
      "K = 8\n",
      "SMOTE Score: 0.774 \n"
     ]
    },
    {
     "name": "stderr",
     "output_type": "stream",
     "text": [
      "/Users/chongbei/Workspace/python/initial-bid/bid-env/lib/python3.9/site-packages/sklearn/base.py:474: FutureWarning: `BaseEstimator._validate_data` is deprecated in 1.6 and will be removed in 1.7. Use `sklearn.utils.validation.validate_data` instead. This function becomes public and is part of the scikit-learn developer API.\n",
      "  warnings.warn(\n"
     ]
    },
    {
     "name": "stdout",
     "output_type": "stream",
     "text": [
      "K = 9\n",
      "SMOTE Score: 0.780 \n"
     ]
    }
   ],
   "source": [
    "for i in range(1,10,1):\n",
    "    smote = SMOTE(k_neighbors = i, random_state=42) \n",
    "\n",
    "    X_smote, y_smote = smote.fit_resample(X_train,y_train)\n",
    "\n",
    "    clf_sm = RandomForestClassifier(random_state=0)\n",
    "    clf_sm.fit(X_smote, y_smote.values.ravel())\n",
    "    sm_pred = clf_sm.predict(X_test)\n",
    "    print('K = ' +str(i))\n",
    "    print('SMOTE Score: %.3f '% accuracy_score(y_test,sm_pred))\n",
    "    \n",
    "#it seems like k = 5 produced the best results. "
   ]
  },
  {
   "cell_type": "code",
   "execution_count": null,
   "metadata": {},
   "outputs": [],
   "source": []
  }
 ],
 "metadata": {
  "kernelspec": {
   "display_name": "PySpark(Initialbid)",
   "language": "python",
   "name": "pyspark"
  },
  "language_info": {
   "codemirror_mode": {
    "name": "ipython",
    "version": 3
   },
   "file_extension": ".py",
   "mimetype": "text/x-python",
   "name": "python",
   "nbconvert_exporter": "python",
   "pygments_lexer": "ipython3",
   "version": "3.9.6"
  }
 },
 "nbformat": 4,
 "nbformat_minor": 4
}
